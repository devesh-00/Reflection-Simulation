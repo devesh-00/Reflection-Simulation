{
 "cells": [
  {
   "cell_type": "markdown",
   "metadata": {},
   "source": [
    "## Quadrilateral Plot: all angles in radian"
   ]
  },
  {
   "cell_type": "code",
   "execution_count": 1,
   "metadata": {},
   "outputs": [],
   "source": [
    "def mega(angle, a, b, n):\n",
    "    stop =0\n",
    "    import math\n",
    "    pi = math.pi\n",
    "    # input parameters: (x,y)=(a,b)\n",
    "    angle = angle*pi/180\n",
    "    error = 1e-5\n",
    "\n",
    "    # initial coordinates\n",
    "    square = [[0,0], [a, 0], [a,b], [0, b]]\n",
    "\n",
    "    # points\n",
    "    Y = [[0,0]]\n",
    "\n",
    "    # direction vectors\n",
    "    vector= [[math.cos(angle),math.sin(angle)]]\n",
    "\n",
    "    def reflect(coord, vector):\n",
    "        if (eq(coord[0],0)) or (eq(coord[0],a)):\n",
    "            return [-vector[0], vector[1]]\n",
    "        elif eq(coord[1],0) or eq(coord[1],b):\n",
    "            return [vector[0], -vector[1]]\n",
    "        else:\n",
    "            print('problem in relfection')\n",
    "\n",
    "    def theta(vector):\n",
    "        return math.atan(vector[1]/vector[0])\n",
    "\n",
    "    def line_gety(angle, coord, x):\n",
    "        return buff(coord[1]+math.tan(angle)*(x-coord[0]))\n",
    "\n",
    "    def line_getx(angle, coord, y):\n",
    "        return buff(coord[0]+(y- coord[1])/math.tan(angle))\n",
    "\n",
    "    def which_square(coord):\n",
    "        counter = 0\n",
    "        for k in square:\n",
    "            if coord == k:\n",
    "                return counter\n",
    "            counter +=1\n",
    "        else:\n",
    "            return -1\n",
    "\n",
    "    def buff(number):\n",
    "        if abs(number-a)<error:\n",
    "            return a\n",
    "        elif abs(number-b)<error:\n",
    "            return b\n",
    "        else:\n",
    "            return number\n",
    "\n",
    "    def eq(number1, number2):\n",
    "        if abs(number1-number2)<error:\n",
    "            return True\n",
    "        else:\n",
    "            return False\n",
    "\n",
    "    def on_which_line(coord):\n",
    "        if coord in square:\n",
    "            return ['x='+str(coord[0])+' and y='+str(coord[1]), coord]\n",
    "        if ((eq(coord[0],0) and 0<=coord[1]<=b)):\n",
    "            return ['x=0',[2,1]]\n",
    "        elif (eq(coord[0],a) and 0<=coord[1]<=b):\n",
    "            return ['x=1',[2,2]]\n",
    "        elif (eq(coord[1],0) and 0<=coord[0]<=a):\n",
    "            return ['y=0',[2,3]]\n",
    "        elif (eq(coord[1],b) and 0<=coord[0]<=a):\n",
    "            return ['y=1',[2,4]]\n",
    "        else:\n",
    "            print('not on any line')\n",
    "\n",
    "    # define Y[1]\n",
    "    if 0<=buff(line_gety(angle, Y[0], a))<=b:\n",
    "        Y.append([a, buff(line_gety(angle, Y[0], a))])\n",
    "    else:\n",
    "        Y.append([buff(line_getx(angle, Y[0], b)),b])\n",
    "\n",
    "    # define vector[1]\n",
    "    vector.append(reflect(Y[1], vector[0]))\n",
    "\n",
    "    # works only for Y[2] and beyond\n",
    "    def next_coord(coord, vector):\n",
    "        angle = theta(vector)\n",
    "        beta = on_which_line(coord)[1]\n",
    "        if beta[0]==2:\n",
    "            if beta[1]!=1 and 0<=buff(line_gety(angle, coord, 0))<=b:\n",
    "                return [0, buff(line_gety(angle, coord, 0))]\n",
    "            elif (beta[1]!=2) and (0<=line_gety(angle, coord, a)<=b):\n",
    "                return [a, buff(line_gety(angle, coord, a))]\n",
    "            elif beta[1]!=3 and 0<=line_getx(angle, coord, 0)<=a:    \n",
    "                return [buff(line_getx(angle, coord, 0)), 0]\n",
    "            elif beta[1]!=4 and 0<=line_getx(angle, coord, b)<=a:\n",
    "                return [buff(line_getx(angle, coord, b)),b]\n",
    "\n",
    "    for i in range(2, n):\n",
    "        # print(i)\n",
    "        if Y[i-1] in square:\n",
    "            stop = i-1\n",
    "            break\n",
    "        Y.append(next_coord(Y[i-1], vector[i-1]))\n",
    "        vector.append(reflect(Y[i], vector[i-1]))\n",
    "    \n",
    "    names= ['A','B','C','D']\n",
    "    for i in range(4):\n",
    "        if stop == 0:\n",
    "            end = 'NA'\n",
    "        elif which_square(Y[stop])==i:\n",
    "            end=names[i]\n",
    "    \n",
    "    # stop, len(Y)\n",
    "    print(round((angle*180/pi),0), end, stop)\n",
    "    return int(stop)"
   ]
  },
  {
   "cell_type": "code",
   "execution_count": 2,
   "metadata": {},
   "outputs": [
    {
     "name": "stdout",
     "output_type": "stream",
     "text": [
      "0.0 B 1\n",
      "5.0 D 4604\n",
      "10.0 D 27634\n",
      "15.0 NA 0\n",
      "20.0 D 171862\n",
      "25.0 B 61141\n",
      "30.0 D 180996\n",
      "35.0 D 40332\n",
      "40.0 B 92769\n",
      "45.0 D 2\n",
      "50.0 D 175022\n",
      "55.0 D 35854\n",
      "60.0 C 75657\n",
      "65.0 D 95820\n",
      "70.0 D 125622\n",
      "75.0 B 116203\n",
      "80.0 C 8587\n",
      "85.0 C 1295\n"
     ]
    }
   ],
   "source": [
    "billo=[]\n",
    "x =[]\n",
    "for angle in range(0,90,5):\n",
    "    x.append(angle)\n",
    "    billo.append(mega(angle, 1,2, 5000000))\n",
    "x.append(90)\n",
    "billo.append(1)"
   ]
  },
  {
   "cell_type": "code",
   "execution_count": 3,
   "metadata": {},
   "outputs": [
    {
     "data": {
      "image/png": "[encoded data removed]",
      "text/plain": [
       "<Figure size 432x288 with 1 Axes>"
      ]
     },
     "metadata": {
      "needs_background": "light"
     },
     "output_type": "display_data"
    }
   ],
   "source": [
    "import matplotlib.pyplot as plt\n",
    "\n",
    "plt.plot(x, billo)\n",
    "plt.xlabel('\\u03B8 in degrees')\n",
    "plt.ylabel('Number of reflections to reach vertex')\n",
    "plt.show()"
   ]
  },
  {
   "cell_type": "code",
   "execution_count": null,
   "metadata": {},
   "outputs": [],
   "source": []
  }
 ],
 "metadata": {
  "kernelspec": {
   "display_name": "Python 3",
   "language": "python",
   "name": "python3"
  },
  "language_info": {
   "codemirror_mode": {
    "name": "ipython",
    "version": 3
   },
   "file_extension": ".py",
   "mimetype": "text/x-python",
   "name": "python",
   "nbconvert_exporter": "python",
   "pygments_lexer": "ipython3",
   "version": "3.8.3"
  }
 },
 "nbformat": 4,
 "nbformat_minor": 4
}
